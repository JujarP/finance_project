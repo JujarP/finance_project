{
 "cells": [
  {
   "cell_type": "markdown",
   "metadata": {},
   "source": [
    "\n",
    "# Finance Project\n",
    "\n",
    "Data analysis of the following bank stocks from 1st Jan 2006 to 1st Jan 2016:\n",
    "* Bank of America (BAC)\n",
    "* CitiGroup\t(C)\n",
    "* Goldman Sachs (GS)\n",
    "* JPMorgan Chase (JPM)\n",
    "* Morgan Stanley (MS)\n",
    "* Wells Fargo (WFC)\n",
    "\n",
    "Finance data from Yahoo Finance - no API key required."
   ]
  },
  {
   "cell_type": "code",
   "execution_count": null,
   "metadata": {},
   "outputs": [],
   "source": []
  }
 ],
 "metadata": {
  "interpreter": {
   "hash": "f9aee11d72cc7bda6409381cc68a7d7be372320e779262ff0e517b616013d8d7"
  },
  "kernelspec": {
   "display_name": "Python 3.7.1 ('base')",
   "language": "python",
   "name": "python3"
  },
  "language_info": {
   "name": "python",
   "version": "3.7.1"
  },
  "orig_nbformat": 4
 },
 "nbformat": 4,
 "nbformat_minor": 2
}
