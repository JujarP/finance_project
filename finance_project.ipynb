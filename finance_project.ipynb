{
 "cells": [
  {
   "cell_type": "markdown",
   "metadata": {},
   "source": [
    "\n",
    "# Finance Project\n",
    "\n",
    "Data analysis of the following bank stocks from 1st Jan 2006 to 1st Jan 2016:\n",
    "* Bank of America (BAC)\n",
    "* CitiGroup\t(C)\n",
    "* Goldman Sachs (GS)\n",
    "* JPMorgan Chase (JPM)\n",
    "* Morgan Stanley (MS)\n",
    "* Wells Fargo (WFC)\n",
    "\n",
    "Finance data from Yahoo Finance - no API key required."
   ]
  },
  {
   "cell_type": "code",
   "execution_count": 1,
   "metadata": {},
   "outputs": [],
   "source": [
    "# IMPORT LIBRARIES\n",
    "import numpy as np\n",
    "import pandas as pd\n",
    "import pandas_datareader.data as web\n",
    "import matplotlib.pyplot as plt\n",
    "import seaborn as sns\n",
    "import datetime\n",
    "%matplotlib inline"
   ]
  },
  {
   "cell_type": "code",
   "execution_count": 2,
   "metadata": {},
   "outputs": [],
   "source": [
    "# IMPORT BANK DATA\n",
    "BAC = web.DataReader('BAC', 'yahoo', start='2006-01-01', end='2016-01-01')\n",
    "C = web.DataReader('C', 'yahoo', start='2006-01-01', end='2016-01-01')\n",
    "GS = web.DataReader('GS', 'yahoo', start='2006-01-01', end='2016-01-01')\n",
    "JPM = web.DataReader('JPM', 'yahoo', start='2006-01-01', end='2016-01-01')\n",
    "MS = web.DataReader('MS', 'yahoo', start='2006-01-01', end='2016-01-01')\n",
    "WFC = web.DataReader('WFC', 'yahoo', start='2006-01-01', end='2016-01-01')"
   ]
  },
  {
   "cell_type": "code",
   "execution_count": 3,
   "metadata": {},
   "outputs": [],
   "source": [
    "# LIST OF TICKER SYMBOLS\n",
    "ticker = ['BAC','C','GS','JPM','MS','WFC']\n",
    "ticker.sort()"
   ]
  },
  {
   "cell_type": "code",
   "execution_count": null,
   "metadata": {},
   "outputs": [],
   "source": []
  }
 ],
 "metadata": {
  "interpreter": {
   "hash": "f9aee11d72cc7bda6409381cc68a7d7be372320e779262ff0e517b616013d8d7"
  },
  "kernelspec": {
   "display_name": "Python 3.7.1 ('base')",
   "language": "python",
   "name": "python3"
  },
  "language_info": {
   "codemirror_mode": {
    "name": "ipython",
    "version": 3
   },
   "file_extension": ".py",
   "mimetype": "text/x-python",
   "name": "python",
   "nbconvert_exporter": "python",
   "pygments_lexer": "ipython3",
   "version": "3.7.1"
  },
  "orig_nbformat": 4
 },
 "nbformat": 4,
 "nbformat_minor": 2
}
